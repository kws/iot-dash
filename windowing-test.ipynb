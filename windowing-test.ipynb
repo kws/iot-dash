{
 "cells": [
  {
   "cell_type": "code",
   "execution_count": 9,
   "metadata": {},
   "outputs": [],
   "source": [
    "import pandas as pd\n",
    "import numpy as np\n",
    "import sqlite3\n",
    "from datetime import datetime, timedelta\n",
    "from pytz import timezone"
   ]
  },
  {
   "cell_type": "code",
   "execution_count": 10,
   "metadata": {},
   "outputs": [],
   "source": [
    "__TIMEZONE = timezone('Europe/London')\n",
    "days = 1/24"
   ]
  },
  {
   "cell_type": "code",
   "execution_count": 11,
   "metadata": {},
   "outputs": [],
   "source": [
    "_DB_URL = \"/Users/kws/dropbox/iot/eeepc/iot-log.db\""
   ]
  },
  {
   "cell_type": "code",
   "execution_count": 12,
   "metadata": {},
   "outputs": [
    {
     "data": {
      "text/plain": "                         date  id     name      type value sort_order\n0   2020-04-18 14:41:41+01:00  47  Kitchen  presence     0          1\n1   2020-04-18 14:42:15+01:00  53  Bedroom  presence     0          2\n2   2020-04-18 14:42:30+01:00  47  Kitchen  presence     1          1\n3   2020-04-18 14:42:31+01:00  42   Garage  presence     1          3\n4   2020-04-18 14:42:48+01:00  83   Garden  presence     1          5\n..                        ...  ..      ...       ...   ...        ...\n162 2020-04-18 15:27:33+01:00  47  Kitchen  presence     0          1\n163 2020-04-18 15:28:24+01:00  53  Bedroom  presence     1          2\n164 2020-04-18 15:28:38+01:00  53  Bedroom  presence     0          2\n165 2020-04-18 15:36:02+01:00  53  Bedroom  presence     1          2\n166 2020-04-18 15:36:20+01:00  53  Bedroom  presence     0          2\n\n[167 rows x 6 columns]",
      "text/html": "<div>\n<style scoped>\n    .dataframe tbody tr th:only-of-type {\n        vertical-align: middle;\n    }\n\n    .dataframe tbody tr th {\n        vertical-align: top;\n    }\n\n    .dataframe thead th {\n        text-align: right;\n    }\n</style>\n<table border=\"1\" class=\"dataframe\">\n  <thead>\n    <tr style=\"text-align: right;\">\n      <th></th>\n      <th>date</th>\n      <th>id</th>\n      <th>name</th>\n      <th>type</th>\n      <th>value</th>\n      <th>sort_order</th>\n    </tr>\n  </thead>\n  <tbody>\n    <tr>\n      <th>0</th>\n      <td>2020-04-18 14:41:41+01:00</td>\n      <td>47</td>\n      <td>Kitchen</td>\n      <td>presence</td>\n      <td>0</td>\n      <td>1</td>\n    </tr>\n    <tr>\n      <th>1</th>\n      <td>2020-04-18 14:42:15+01:00</td>\n      <td>53</td>\n      <td>Bedroom</td>\n      <td>presence</td>\n      <td>0</td>\n      <td>2</td>\n    </tr>\n    <tr>\n      <th>2</th>\n      <td>2020-04-18 14:42:30+01:00</td>\n      <td>47</td>\n      <td>Kitchen</td>\n      <td>presence</td>\n      <td>1</td>\n      <td>1</td>\n    </tr>\n    <tr>\n      <th>3</th>\n      <td>2020-04-18 14:42:31+01:00</td>\n      <td>42</td>\n      <td>Garage</td>\n      <td>presence</td>\n      <td>1</td>\n      <td>3</td>\n    </tr>\n    <tr>\n      <th>4</th>\n      <td>2020-04-18 14:42:48+01:00</td>\n      <td>83</td>\n      <td>Garden</td>\n      <td>presence</td>\n      <td>1</td>\n      <td>5</td>\n    </tr>\n    <tr>\n      <th>...</th>\n      <td>...</td>\n      <td>...</td>\n      <td>...</td>\n      <td>...</td>\n      <td>...</td>\n      <td>...</td>\n    </tr>\n    <tr>\n      <th>162</th>\n      <td>2020-04-18 15:27:33+01:00</td>\n      <td>47</td>\n      <td>Kitchen</td>\n      <td>presence</td>\n      <td>0</td>\n      <td>1</td>\n    </tr>\n    <tr>\n      <th>163</th>\n      <td>2020-04-18 15:28:24+01:00</td>\n      <td>53</td>\n      <td>Bedroom</td>\n      <td>presence</td>\n      <td>1</td>\n      <td>2</td>\n    </tr>\n    <tr>\n      <th>164</th>\n      <td>2020-04-18 15:28:38+01:00</td>\n      <td>53</td>\n      <td>Bedroom</td>\n      <td>presence</td>\n      <td>0</td>\n      <td>2</td>\n    </tr>\n    <tr>\n      <th>165</th>\n      <td>2020-04-18 15:36:02+01:00</td>\n      <td>53</td>\n      <td>Bedroom</td>\n      <td>presence</td>\n      <td>1</td>\n      <td>2</td>\n    </tr>\n    <tr>\n      <th>166</th>\n      <td>2020-04-18 15:36:20+01:00</td>\n      <td>53</td>\n      <td>Bedroom</td>\n      <td>presence</td>\n      <td>0</td>\n      <td>2</td>\n    </tr>\n  </tbody>\n</table>\n<p>167 rows × 6 columns</p>\n</div>"
     },
     "execution_count": 12,
     "metadata": {},
     "output_type": "execute_result"
    }
   ],
   "source": [
    "start_date = datetime.utcnow() - timedelta(days=days)\n",
    "start = start_date.strftime('%Y-%m-%dT%H:%M:%S')\n",
    "\n",
    "with sqlite3.connect(_DB_URL) as conn:\n",
    "    df = pd.read_sql_query(\n",
    "        \"select l.date,l.id,s.name,l.type,l.value,s.sort_order from log as l\"\n",
    "        \"  left join sensors as s on l.id = s.id \"\n",
    "        \"  where l.date>=? and l.type=? order by l.date\",\n",
    "        conn, params=[start, 'presence'])\n",
    "    \n",
    "df['date'] = pd.to_datetime(df.date)\n",
    "df['date'] = df['date'].dt.tz_localize(timezone('UTC'))\n",
    "df['date'] = df['date'].dt.tz_convert(__TIMEZONE)\n",
    "orig = df\n",
    "df"
   ]
  },
  {
   "cell_type": "code",
   "execution_count": 13,
   "metadata": {},
   "outputs": [],
   "source": [
    "df = orig[orig.id==47].copy()\n",
    "periods = 30\n",
    "time_window = days / periods\n",
    "\n",
    "start_date_tz = timezone('UTC').localize(start_date)\n",
    "start_date_tz = start_date.astimezone(__TIMEZONE)\n",
    "\n",
    "df = df.sort_values(\"date\").reset_index(drop=True)\n",
    "df.loc[df.value == '1', 'start'] = df.date\n",
    "df.loc[df.value == '0', 'end'] = df.date\n",
    "df[['end']] = df[['end']].fillna(method='bfill')\n",
    "df[['start']] = df[['start']].fillna(method='ffill')\n",
    "\n",
    "df.loc[df.start.isnull(), 'start'] = start_date_tz\n",
    "df.loc[df.end.isnull(), 'end'] = start_date_tz + timedelta(days=days)"
   ]
  },
  {
   "cell_type": "code",
   "execution_count": 14,
   "metadata": {},
   "outputs": [
    {
     "data": {
      "text/plain": "                       date  id     name      type value sort_order  \\\n0 2020-04-18 14:41:41+01:00  47  Kitchen  presence     0          1   \n1 2020-04-18 14:42:30+01:00  47  Kitchen  presence     1          1   \n2 2020-04-18 14:43:14+01:00  47  Kitchen  presence     0          1   \n3 2020-04-18 14:43:36+01:00  47  Kitchen  presence     1          1   \n4 2020-04-18 14:43:49+01:00  47  Kitchen  presence     1          1   \n\n                             start                       end  \\\n0 2020-04-18 13:41:38.328362+01:00 2020-04-18 14:41:41+01:00   \n1        2020-04-18 14:42:30+01:00 2020-04-18 14:43:14+01:00   \n2        2020-04-18 14:42:30+01:00 2020-04-18 14:43:14+01:00   \n3        2020-04-18 14:43:36+01:00 2020-04-18 14:44:04+01:00   \n4        2020-04-18 14:43:49+01:00 2020-04-18 14:44:04+01:00   \n\n                             delta                       delta_prev  \n0 2020-04-18 13:43:38.328362+01:00 2020-04-18 13:43:38.328362+01:00  \n1        2020-04-18 14:44:30+01:00 2020-04-18 13:43:38.328362+01:00  \n2        2020-04-18 14:44:30+01:00        2020-04-18 14:44:30+01:00  \n3        2020-04-18 14:45:36+01:00        2020-04-18 14:44:30+01:00  \n4        2020-04-18 14:45:49+01:00        2020-04-18 14:45:36+01:00  ",
      "text/html": "<div>\n<style scoped>\n    .dataframe tbody tr th:only-of-type {\n        vertical-align: middle;\n    }\n\n    .dataframe tbody tr th {\n        vertical-align: top;\n    }\n\n    .dataframe thead th {\n        text-align: right;\n    }\n</style>\n<table border=\"1\" class=\"dataframe\">\n  <thead>\n    <tr style=\"text-align: right;\">\n      <th></th>\n      <th>date</th>\n      <th>id</th>\n      <th>name</th>\n      <th>type</th>\n      <th>value</th>\n      <th>sort_order</th>\n      <th>start</th>\n      <th>end</th>\n      <th>delta</th>\n      <th>delta_prev</th>\n    </tr>\n  </thead>\n  <tbody>\n    <tr>\n      <th>0</th>\n      <td>2020-04-18 14:41:41+01:00</td>\n      <td>47</td>\n      <td>Kitchen</td>\n      <td>presence</td>\n      <td>0</td>\n      <td>1</td>\n      <td>2020-04-18 13:41:38.328362+01:00</td>\n      <td>2020-04-18 14:41:41+01:00</td>\n      <td>2020-04-18 13:43:38.328362+01:00</td>\n      <td>2020-04-18 13:43:38.328362+01:00</td>\n    </tr>\n    <tr>\n      <th>1</th>\n      <td>2020-04-18 14:42:30+01:00</td>\n      <td>47</td>\n      <td>Kitchen</td>\n      <td>presence</td>\n      <td>1</td>\n      <td>1</td>\n      <td>2020-04-18 14:42:30+01:00</td>\n      <td>2020-04-18 14:43:14+01:00</td>\n      <td>2020-04-18 14:44:30+01:00</td>\n      <td>2020-04-18 13:43:38.328362+01:00</td>\n    </tr>\n    <tr>\n      <th>2</th>\n      <td>2020-04-18 14:43:14+01:00</td>\n      <td>47</td>\n      <td>Kitchen</td>\n      <td>presence</td>\n      <td>0</td>\n      <td>1</td>\n      <td>2020-04-18 14:42:30+01:00</td>\n      <td>2020-04-18 14:43:14+01:00</td>\n      <td>2020-04-18 14:44:30+01:00</td>\n      <td>2020-04-18 14:44:30+01:00</td>\n    </tr>\n    <tr>\n      <th>3</th>\n      <td>2020-04-18 14:43:36+01:00</td>\n      <td>47</td>\n      <td>Kitchen</td>\n      <td>presence</td>\n      <td>1</td>\n      <td>1</td>\n      <td>2020-04-18 14:43:36+01:00</td>\n      <td>2020-04-18 14:44:04+01:00</td>\n      <td>2020-04-18 14:45:36+01:00</td>\n      <td>2020-04-18 14:44:30+01:00</td>\n    </tr>\n    <tr>\n      <th>4</th>\n      <td>2020-04-18 14:43:49+01:00</td>\n      <td>47</td>\n      <td>Kitchen</td>\n      <td>presence</td>\n      <td>1</td>\n      <td>1</td>\n      <td>2020-04-18 14:43:49+01:00</td>\n      <td>2020-04-18 14:44:04+01:00</td>\n      <td>2020-04-18 14:45:49+01:00</td>\n      <td>2020-04-18 14:45:36+01:00</td>\n    </tr>\n  </tbody>\n</table>\n</div>"
     },
     "execution_count": 14,
     "metadata": {},
     "output_type": "execute_result"
    }
   ],
   "source": [
    "df['delta'] = df['start'] + timedelta(days=time_window)\n",
    "df['delta_prev'] = df.delta.shift(1)\n",
    "df.loc[df.delta_prev.isnull(), 'delta_prev'] = df.delta\n",
    "df.head()"
   ]
  },
  {
   "cell_type": "code",
   "execution_count": 15,
   "metadata": {},
   "outputs": [
    {
     "data": {
      "text/plain": "                       date  id     name      type value sort_order  \\\n0 2020-04-18 14:41:41+01:00  47  Kitchen  presence     0          1   \n1 2020-04-18 14:42:30+01:00  47  Kitchen  presence     1          1   \n2 2020-04-18 14:43:14+01:00  47  Kitchen  presence     0          1   \n3 2020-04-18 14:43:36+01:00  47  Kitchen  presence     1          1   \n4 2020-04-18 14:43:49+01:00  47  Kitchen  presence     1          1   \n\n                             start                       end  \\\n0 2020-04-18 13:41:38.328362+01:00 2020-04-18 14:41:41+01:00   \n1        2020-04-18 14:42:30+01:00 2020-04-18 14:43:14+01:00   \n2        2020-04-18 14:42:30+01:00 2020-04-18 14:43:14+01:00   \n3        2020-04-18 14:43:36+01:00 2020-04-18 14:44:04+01:00   \n4        2020-04-18 14:43:49+01:00 2020-04-18 14:44:04+01:00   \n\n                             delta                       delta_prev  \n0 2020-04-18 13:43:38.328362+01:00 2020-04-18 13:43:38.328362+01:00  \n1        2020-04-18 14:44:30+01:00 2020-04-18 13:43:38.328362+01:00  \n2        2020-04-18 14:44:30+01:00        2020-04-18 14:44:30+01:00  \n3        2020-04-18 14:44:30+01:00        2020-04-18 14:44:30+01:00  \n4        2020-04-18 14:45:36+01:00        2020-04-18 14:45:36+01:00  ",
      "text/html": "<div>\n<style scoped>\n    .dataframe tbody tr th:only-of-type {\n        vertical-align: middle;\n    }\n\n    .dataframe tbody tr th {\n        vertical-align: top;\n    }\n\n    .dataframe thead th {\n        text-align: right;\n    }\n</style>\n<table border=\"1\" class=\"dataframe\">\n  <thead>\n    <tr style=\"text-align: right;\">\n      <th></th>\n      <th>date</th>\n      <th>id</th>\n      <th>name</th>\n      <th>type</th>\n      <th>value</th>\n      <th>sort_order</th>\n      <th>start</th>\n      <th>end</th>\n      <th>delta</th>\n      <th>delta_prev</th>\n    </tr>\n  </thead>\n  <tbody>\n    <tr>\n      <th>0</th>\n      <td>2020-04-18 14:41:41+01:00</td>\n      <td>47</td>\n      <td>Kitchen</td>\n      <td>presence</td>\n      <td>0</td>\n      <td>1</td>\n      <td>2020-04-18 13:41:38.328362+01:00</td>\n      <td>2020-04-18 14:41:41+01:00</td>\n      <td>2020-04-18 13:43:38.328362+01:00</td>\n      <td>2020-04-18 13:43:38.328362+01:00</td>\n    </tr>\n    <tr>\n      <th>1</th>\n      <td>2020-04-18 14:42:30+01:00</td>\n      <td>47</td>\n      <td>Kitchen</td>\n      <td>presence</td>\n      <td>1</td>\n      <td>1</td>\n      <td>2020-04-18 14:42:30+01:00</td>\n      <td>2020-04-18 14:43:14+01:00</td>\n      <td>2020-04-18 14:44:30+01:00</td>\n      <td>2020-04-18 13:43:38.328362+01:00</td>\n    </tr>\n    <tr>\n      <th>2</th>\n      <td>2020-04-18 14:43:14+01:00</td>\n      <td>47</td>\n      <td>Kitchen</td>\n      <td>presence</td>\n      <td>0</td>\n      <td>1</td>\n      <td>2020-04-18 14:42:30+01:00</td>\n      <td>2020-04-18 14:43:14+01:00</td>\n      <td>2020-04-18 14:44:30+01:00</td>\n      <td>2020-04-18 14:44:30+01:00</td>\n    </tr>\n    <tr>\n      <th>3</th>\n      <td>2020-04-18 14:43:36+01:00</td>\n      <td>47</td>\n      <td>Kitchen</td>\n      <td>presence</td>\n      <td>1</td>\n      <td>1</td>\n      <td>2020-04-18 14:43:36+01:00</td>\n      <td>2020-04-18 14:44:04+01:00</td>\n      <td>2020-04-18 14:44:30+01:00</td>\n      <td>2020-04-18 14:44:30+01:00</td>\n    </tr>\n    <tr>\n      <th>4</th>\n      <td>2020-04-18 14:43:49+01:00</td>\n      <td>47</td>\n      <td>Kitchen</td>\n      <td>presence</td>\n      <td>1</td>\n      <td>1</td>\n      <td>2020-04-18 14:43:49+01:00</td>\n      <td>2020-04-18 14:44:04+01:00</td>\n      <td>2020-04-18 14:45:36+01:00</td>\n      <td>2020-04-18 14:45:36+01:00</td>\n    </tr>\n  </tbody>\n</table>\n</div>"
     },
     "execution_count": 15,
     "metadata": {},
     "output_type": "execute_result"
    }
   ],
   "source": [
    "df.loc[(df.start <= df.delta_prev), 'delta'] = df.delta_prev\n",
    "df.head()"
   ]
  },
  {
   "cell_type": "code",
   "execution_count": 18,
   "metadata": {},
   "outputs": [
    {
     "data": {
      "text/plain": "                       date  id     name      type value sort_order  \\\n0 2020-04-18 14:41:41+01:00  47  Kitchen  presence     0          1   \n1 2020-04-18 14:42:30+01:00  47  Kitchen  presence     1          1   \n2 2020-04-18 14:43:14+01:00  47  Kitchen  presence     0          1   \n3 2020-04-18 14:43:36+01:00  47  Kitchen  presence     1          1   \n4 2020-04-18 14:43:49+01:00  47  Kitchen  presence     1          1   \n\n                             start                       end  \\\n0 2020-04-18 13:41:38.328362+01:00 2020-04-18 14:41:41+01:00   \n1        2020-04-18 14:42:30+01:00 2020-04-18 14:44:30+01:00   \n2        2020-04-18 14:42:30+01:00 2020-04-18 14:44:30+01:00   \n3        2020-04-18 14:43:36+01:00 2020-04-18 14:44:30+01:00   \n4        2020-04-18 14:43:49+01:00 2020-04-18 14:45:36+01:00   \n\n                             delta                       delta_prev  \\\n0 2020-04-18 13:43:38.328362+01:00 2020-04-18 13:43:38.328362+01:00   \n1        2020-04-18 14:44:30+01:00 2020-04-18 13:43:38.328362+01:00   \n2        2020-04-18 14:44:30+01:00        2020-04-18 14:44:30+01:00   \n3        2020-04-18 14:44:30+01:00        2020-04-18 14:44:30+01:00   \n4        2020-04-18 14:45:36+01:00        2020-04-18 14:45:36+01:00   \n\n                          prev_end  group_id  \n0 2020-04-18 13:41:38.328362+01:00       NaN  \n1        2020-04-18 14:41:41+01:00       1.0  \n2        2020-04-18 14:44:30+01:00       1.0  \n3        2020-04-18 14:44:30+01:00       1.0  \n4        2020-04-18 14:44:30+01:00       1.0  ",
      "text/html": "<div>\n<style scoped>\n    .dataframe tbody tr th:only-of-type {\n        vertical-align: middle;\n    }\n\n    .dataframe tbody tr th {\n        vertical-align: top;\n    }\n\n    .dataframe thead th {\n        text-align: right;\n    }\n</style>\n<table border=\"1\" class=\"dataframe\">\n  <thead>\n    <tr style=\"text-align: right;\">\n      <th></th>\n      <th>date</th>\n      <th>id</th>\n      <th>name</th>\n      <th>type</th>\n      <th>value</th>\n      <th>sort_order</th>\n      <th>start</th>\n      <th>end</th>\n      <th>delta</th>\n      <th>delta_prev</th>\n      <th>prev_end</th>\n      <th>group_id</th>\n    </tr>\n  </thead>\n  <tbody>\n    <tr>\n      <th>0</th>\n      <td>2020-04-18 14:41:41+01:00</td>\n      <td>47</td>\n      <td>Kitchen</td>\n      <td>presence</td>\n      <td>0</td>\n      <td>1</td>\n      <td>2020-04-18 13:41:38.328362+01:00</td>\n      <td>2020-04-18 14:41:41+01:00</td>\n      <td>2020-04-18 13:43:38.328362+01:00</td>\n      <td>2020-04-18 13:43:38.328362+01:00</td>\n      <td>2020-04-18 13:41:38.328362+01:00</td>\n      <td>NaN</td>\n    </tr>\n    <tr>\n      <th>1</th>\n      <td>2020-04-18 14:42:30+01:00</td>\n      <td>47</td>\n      <td>Kitchen</td>\n      <td>presence</td>\n      <td>1</td>\n      <td>1</td>\n      <td>2020-04-18 14:42:30+01:00</td>\n      <td>2020-04-18 14:44:30+01:00</td>\n      <td>2020-04-18 14:44:30+01:00</td>\n      <td>2020-04-18 13:43:38.328362+01:00</td>\n      <td>2020-04-18 14:41:41+01:00</td>\n      <td>1.0</td>\n    </tr>\n    <tr>\n      <th>2</th>\n      <td>2020-04-18 14:43:14+01:00</td>\n      <td>47</td>\n      <td>Kitchen</td>\n      <td>presence</td>\n      <td>0</td>\n      <td>1</td>\n      <td>2020-04-18 14:42:30+01:00</td>\n      <td>2020-04-18 14:44:30+01:00</td>\n      <td>2020-04-18 14:44:30+01:00</td>\n      <td>2020-04-18 14:44:30+01:00</td>\n      <td>2020-04-18 14:44:30+01:00</td>\n      <td>1.0</td>\n    </tr>\n    <tr>\n      <th>3</th>\n      <td>2020-04-18 14:43:36+01:00</td>\n      <td>47</td>\n      <td>Kitchen</td>\n      <td>presence</td>\n      <td>1</td>\n      <td>1</td>\n      <td>2020-04-18 14:43:36+01:00</td>\n      <td>2020-04-18 14:44:30+01:00</td>\n      <td>2020-04-18 14:44:30+01:00</td>\n      <td>2020-04-18 14:44:30+01:00</td>\n      <td>2020-04-18 14:44:30+01:00</td>\n      <td>1.0</td>\n    </tr>\n    <tr>\n      <th>4</th>\n      <td>2020-04-18 14:43:49+01:00</td>\n      <td>47</td>\n      <td>Kitchen</td>\n      <td>presence</td>\n      <td>1</td>\n      <td>1</td>\n      <td>2020-04-18 14:43:49+01:00</td>\n      <td>2020-04-18 14:45:36+01:00</td>\n      <td>2020-04-18 14:45:36+01:00</td>\n      <td>2020-04-18 14:45:36+01:00</td>\n      <td>2020-04-18 14:44:30+01:00</td>\n      <td>1.0</td>\n    </tr>\n  </tbody>\n</table>\n</div>"
     },
     "execution_count": 18,
     "metadata": {},
     "output_type": "execute_result"
    }
   ],
   "source": [
    "df['end'] = df[['end', 'delta']].max(axis=1)\n",
    "df['prev_end'] = df.end.shift(1)\n",
    "df.loc[df.prev_end.isnull(), 'prev_end'] = start_date_tz\n",
    "df['group_id'] = df.index\n",
    "df.loc[df.start <= df.prev_end, 'group_id'] = np.nan\n",
    "df['group_id'] = df['group_id'].fillna(method='ffill')\n",
    "df.head()"
   ]
  },
  {
   "cell_type": "code",
   "execution_count": 19,
   "metadata": {},
   "outputs": [
    {
     "data": {
      "text/plain": "   group_id     name                     start                       end  \\\n0       1.0  Kitchen 2020-04-18 14:42:30+01:00 2020-04-18 14:52:41+01:00   \n1      25.0  Kitchen 2020-04-18 14:54:25+01:00 2020-04-18 14:59:04+01:00   \n2      30.0  Kitchen 2020-04-18 14:59:11+01:00 2020-04-18 15:05:49+01:00   \n3      44.0  Kitchen 2020-04-18 15:06:32+01:00 2020-04-18 15:11:21+01:00   \n4      50.0  Kitchen 2020-04-18 15:16:17+01:00 2020-04-18 15:18:17+01:00   \n5      52.0  Kitchen 2020-04-18 15:19:18+01:00 2020-04-18 15:24:16+01:00   \n6      56.0  Kitchen 2020-04-18 15:25:15+01:00 2020-04-18 15:29:23+01:00   \n\n  sort_order  \n0          1  \n1          1  \n2          1  \n3          1  \n4          1  \n5          1  \n6          1  ",
      "text/html": "<div>\n<style scoped>\n    .dataframe tbody tr th:only-of-type {\n        vertical-align: middle;\n    }\n\n    .dataframe tbody tr th {\n        vertical-align: top;\n    }\n\n    .dataframe thead th {\n        text-align: right;\n    }\n</style>\n<table border=\"1\" class=\"dataframe\">\n  <thead>\n    <tr style=\"text-align: right;\">\n      <th></th>\n      <th>group_id</th>\n      <th>name</th>\n      <th>start</th>\n      <th>end</th>\n      <th>sort_order</th>\n    </tr>\n  </thead>\n  <tbody>\n    <tr>\n      <th>0</th>\n      <td>1.0</td>\n      <td>Kitchen</td>\n      <td>2020-04-18 14:42:30+01:00</td>\n      <td>2020-04-18 14:52:41+01:00</td>\n      <td>1</td>\n    </tr>\n    <tr>\n      <th>1</th>\n      <td>25.0</td>\n      <td>Kitchen</td>\n      <td>2020-04-18 14:54:25+01:00</td>\n      <td>2020-04-18 14:59:04+01:00</td>\n      <td>1</td>\n    </tr>\n    <tr>\n      <th>2</th>\n      <td>30.0</td>\n      <td>Kitchen</td>\n      <td>2020-04-18 14:59:11+01:00</td>\n      <td>2020-04-18 15:05:49+01:00</td>\n      <td>1</td>\n    </tr>\n    <tr>\n      <th>3</th>\n      <td>44.0</td>\n      <td>Kitchen</td>\n      <td>2020-04-18 15:06:32+01:00</td>\n      <td>2020-04-18 15:11:21+01:00</td>\n      <td>1</td>\n    </tr>\n    <tr>\n      <th>4</th>\n      <td>50.0</td>\n      <td>Kitchen</td>\n      <td>2020-04-18 15:16:17+01:00</td>\n      <td>2020-04-18 15:18:17+01:00</td>\n      <td>1</td>\n    </tr>\n    <tr>\n      <th>5</th>\n      <td>52.0</td>\n      <td>Kitchen</td>\n      <td>2020-04-18 15:19:18+01:00</td>\n      <td>2020-04-18 15:24:16+01:00</td>\n      <td>1</td>\n    </tr>\n    <tr>\n      <th>6</th>\n      <td>56.0</td>\n      <td>Kitchen</td>\n      <td>2020-04-18 15:25:15+01:00</td>\n      <td>2020-04-18 15:29:23+01:00</td>\n      <td>1</td>\n    </tr>\n  </tbody>\n</table>\n</div>"
     },
     "execution_count": 19,
     "metadata": {},
     "output_type": "execute_result"
    }
   ],
   "source": [
    "df.groupby('group_id').agg({'name': 'first', 'start': min, 'end':max, 'sort_order': 'first'}).reset_index()"
   ]
  },
  {
   "cell_type": "code",
   "execution_count": null,
   "metadata": {},
   "outputs": [],
   "source": []
  }
 ],
 "metadata": {
  "kernelspec": {
   "display_name": "Python 3",
   "language": "python",
   "name": "python3"
  },
  "language_info": {
   "codemirror_mode": {
    "name": "ipython",
    "version": 3
   },
   "file_extension": ".py",
   "mimetype": "text/x-python",
   "name": "python",
   "nbconvert_exporter": "python",
   "pygments_lexer": "ipython3",
   "version": "3.8.2"
  }
 },
 "nbformat": 4,
 "nbformat_minor": 4
}